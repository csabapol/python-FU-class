{
 "cells": [
  {
   "cell_type": "markdown",
   "metadata": {},
   "source": [
    "# Data analysis with Python\n",
    "> __FU Berlin, winter term 2019/20__"
   ]
  },
  {
   "cell_type": "markdown",
   "metadata": {},
   "source": [
    "## Content\n",
    "\n",
    "\n",
    "### Python I (2019/11/01 to 2019/11/15)\n",
    "* Getting started\n",
    "* Tools\n",
    "* Basics of Python\n",
    "* Data structures\n",
    "* Flow control\n",
    "* Python standard library\n",
    "* 3rd party libraries\n",
    "\n",
    "### Python II (2019/11/22 to 2019/12/13)\n",
    "\n",
    "* Data analysis\n",
    "* Data cleaning\n",
    "* Plotting\n",
    "* Statsitical analysis\n",
    "* Machine learning\n",
    "\n",
    "### Python III (2020/01/10 to 2020/02/07)\n",
    "* Object oriented programming\n",
    "* Out of core computing\n",
    "* Web scraping\n",
    "* Testing\n",
    "* version control\n",
    "* ..."
   ]
  },
  {
   "cell_type": "markdown",
   "metadata": {},
   "source": [
    "***"
   ]
  }
 ],
 "metadata": {
  "kernelspec": {
   "display_name": "Python 3",
   "language": "python",
   "name": "python3"
  },
  "language_info": {
   "codemirror_mode": {
    "name": "ipython",
    "version": 3
   },
   "file_extension": ".py",
   "mimetype": "text/x-python",
   "name": "python",
   "nbconvert_exporter": "python",
   "pygments_lexer": "ipython3",
   "version": "3.7.3"
  }
 },
 "nbformat": 4,
 "nbformat_minor": 4
}
