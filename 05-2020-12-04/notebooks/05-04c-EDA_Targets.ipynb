{
 "cells": [
  {
   "cell_type": "markdown",
   "metadata": {},
   "source": [
    "# Exploratory Data Analysis in Action - EDA: Targets"
   ]
  },
  {
   "cell_type": "markdown",
   "metadata": {},
   "source": [
    "In this section we explore the [_Arial Bombing Data Set_](https://www.kaggle.com/usaf/world-war-ii) and apply techniques referred to as __Exploratory Data Analysis__."
   ]
  },
  {
   "cell_type": "markdown",
   "metadata": {},
   "source": [
    "**Import statements**\n",
    "\n"
   ]
  },
  {
   "cell_type": "code",
   "execution_count": null,
   "metadata": {},
   "outputs": [],
   "source": [
    "import numpy as np\n",
    "import pandas as pd\n",
    "import matplotlib.pyplot as plt\n",
    "%matplotlib inline"
   ]
  },
  {
   "cell_type": "markdown",
   "metadata": {},
   "source": [
    "**Global settings**"
   ]
  },
  {
   "cell_type": "code",
   "execution_count": null,
   "metadata": {},
   "outputs": [],
   "source": [
    "pd.options.display.max_rows = 999\n",
    "pd.options.display.max_columns = 100\n",
    "plt.rcParams[\"figure.figsize\"] = [15,6]"
   ]
  },
  {
   "cell_type": "markdown",
   "metadata": {},
   "source": [
    "**Load data set**"
   ]
  },
  {
   "cell_type": "code",
   "execution_count": null,
   "metadata": {},
   "outputs": [],
   "source": [
    "import pickle\n",
    "gdf_europe = pickle.load( open( \"../data/gdf_europe.p\", \"rb\" ) )\n",
    "europe = pickle.load( open( \"../data/europe.p\", \"rb\" ) )"
   ]
  },
  {
   "cell_type": "markdown",
   "metadata": {},
   "source": [
    "## Research questions "
   ]
  },
  {
   "cell_type": "markdown",
   "metadata": {},
   "source": [
    "__@Targets__\n",
    "- Q1: Which cities were the 15 most frequent targets?\n",
    "- Q2: How much high explosives (in tons) went down on the 25 most frequent targets?\n",
    "- Q3: How did the aerial attacks change over time for the 15 most frequent targeted cities?\n"
   ]
  },
  {
   "cell_type": "code",
   "execution_count": null,
   "metadata": {},
   "outputs": [],
   "source": [
    "df_tar = gdf_europe.copy()"
   ]
  },
  {
   "cell_type": "code",
   "execution_count": null,
   "metadata": {},
   "outputs": [],
   "source": [
    "df_tar.columns"
   ]
  },
  {
   "cell_type": "markdown",
   "metadata": {},
   "source": [
    "> **Q1: Which cities were the 15 most frequent targets?**"
   ]
  },
  {
   "cell_type": "code",
   "execution_count": null,
   "metadata": {},
   "outputs": [],
   "source": [
    "## your code here ..."
   ]
  },
  {
   "cell_type": "code",
   "execution_count": null,
   "metadata": {},
   "outputs": [],
   "source": [
    "print(\"Number of unique cities in the data set:\\n\", df_tar['Target City'].nunique())\n",
    "print(\"---------------------------------------\")\n",
    "most_frequent_cities = df_tar['Target City'].value_counts().sort_values(ascending=False)[:15]\n",
    "print(\"Most frequent cities:\\n\", most_frequent_cities)\n",
    "print(\"---------------------------------------\")"
   ]
  },
  {
   "cell_type": "markdown",
   "metadata": {},
   "source": [
    "> **Q2: How much high explosives (in tons) went down on the 25 most frequent targets?**"
   ]
  },
  {
   "cell_type": "code",
   "execution_count": null,
   "metadata": {},
   "outputs": [],
   "source": [
    "## your code here ..."
   ]
  },
  {
   "cell_type": "code",
   "execution_count": null,
   "metadata": {},
   "outputs": [],
   "source": [
    "list_most_frequent_cities = most_frequent_cities.index\n",
    "df_cities = df_tar.loc[df_tar[\"Target City\"].isin(list_most_frequent_cities)]\n",
    "print(\"Summed high explosives (in tons) per city:\\n\") \n",
    "df_cities.groupby(\"Target City\")[\"High Explosives Weight (Tons)\"].sum().sort_values(ascending=False)"
   ]
  },
  {
   "cell_type": "code",
   "execution_count": null,
   "metadata": {},
   "outputs": [],
   "source": [
    "# plot\n",
    "df_cities.groupby(\"Target City\")[\"High Explosives Weight (Tons)\"].sum().sort_values(ascending=False).plot.bar()\n",
    "plt.ylabel(\"High Explosives in tons\", size=12);"
   ]
  },
  {
   "cell_type": "markdown",
   "metadata": {},
   "source": [
    "> **Q3: How did the aerial attacks change over time for the 15 most frequent targeted cities?**"
   ]
  },
  {
   "cell_type": "code",
   "execution_count": null,
   "metadata": {},
   "outputs": [],
   "source": [
    "## your code here ..."
   ]
  },
  {
   "cell_type": "code",
   "execution_count": null,
   "metadata": {},
   "outputs": [],
   "source": [
    "df_daily_index=pd.date_range(start=df_cities[\"Mission Date\"].min(), end=df_cities[\"Mission Date\"].max(), freq=\"d\")\n",
    "df_cities.set_index(\"Mission Date\", inplace=True)\n",
    "\n",
    "fig, ax = plt.subplots(15,1,sharey=True, figsize=(10,32)) \n",
    "for e, city in enumerate(list_most_frequent_cities):\n",
    "    s = df_cities.loc[df_cities[\"Target City\"]==city, \"High Explosives Weight (Tons)\"].resample(\"d\").sum()\n",
    "    s = s.reindex(df_daily_index)\n",
    "    s.cumsum().plot(ax=ax[e])\n",
    "    ax[e].set_title(city.capitalize())\n",
    "plt.tight_layout()\n",
    "plt.suptitle(\"Accumulated high explosives weight (in Tons) due to arial attacks\\nfor the 15 most frequent targeted cities in Germany\", size=18)\n",
    "plt.subplots_adjust(top=0.95)"
   ]
  },
  {
   "cell_type": "markdown",
   "metadata": {},
   "source": [
    "***"
   ]
  }
 ],
 "metadata": {
  "hide_input": false,
  "kernelspec": {
   "display_name": "Python 3",
   "language": "python",
   "name": "python3"
  },
  "language_info": {
   "codemirror_mode": {
    "name": "ipython",
    "version": 3
   },
   "file_extension": ".py",
   "mimetype": "text/x-python",
   "name": "python",
   "nbconvert_exporter": "python",
   "pygments_lexer": "ipython3",
   "version": "3.7.3"
  }
 },
 "nbformat": 4,
 "nbformat_minor": 4
}
