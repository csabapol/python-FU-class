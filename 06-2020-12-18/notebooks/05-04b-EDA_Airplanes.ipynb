{
 "cells": [
  {
   "cell_type": "markdown",
   "metadata": {},
   "source": [
    "# Exploratory Data Analysis in Action - EDA: Airplanes\n",
    "\n"
   ]
  },
  {
   "cell_type": "markdown",
   "metadata": {},
   "source": [
    "In this section we explore the [_Arial Bombing Data Set_](https://www.kaggle.com/usaf/world-war-ii) and apply techniques referred to as __Exploratory Data Analysis__."
   ]
  },
  {
   "cell_type": "markdown",
   "metadata": {},
   "source": [
    "**Import statements**\n",
    "\n"
   ]
  },
  {
   "cell_type": "code",
   "execution_count": null,
   "metadata": {},
   "outputs": [],
   "source": [
    "import numpy as np\n",
    "import pandas as pd\n",
    "import matplotlib.pyplot as plt\n",
    "import seaborn as sns\n",
    "%matplotlib inline"
   ]
  },
  {
   "cell_type": "markdown",
   "metadata": {},
   "source": [
    "**Global settings**"
   ]
  },
  {
   "cell_type": "code",
   "execution_count": null,
   "metadata": {},
   "outputs": [],
   "source": [
    "pd.options.display.max_rows = 999\n",
    "pd.options.display.max_columns = 100\n",
    "#pd.set_option('display.max_colwidth', -1)\n",
    "plt.rcParams[\"figure.figsize\"] = [15,6]"
   ]
  },
  {
   "cell_type": "markdown",
   "metadata": {},
   "source": [
    "**Load data set**"
   ]
  },
  {
   "cell_type": "code",
   "execution_count": null,
   "metadata": {},
   "outputs": [],
   "source": [
    "import pickle\n",
    "gdf_europe = pickle.load( open( \"../data/gdf_europe.p\", \"rb\" ) )\n",
    "europe = pickle.load(open( \"../data/europe.p\", \"rb\" ) )\n",
    "germany = pickle.load(open(\"../data/germany.p\", \"rb\"))\n",
    "gdf_germany = pickle.load(open(\"../data/gdf_germany.p\", \"rb\"))"
   ]
  },
  {
   "cell_type": "markdown",
   "metadata": {},
   "source": [
    "## Research questions "
   ]
  },
  {
   "cell_type": "markdown",
   "metadata": {},
   "source": [
    "__@Airplanes__\n",
    "- Q1: Which type of airplane types was mostly engaged over?\n",
    "- Q2: At what height do airplanes operate? At what height to the 10 most common airplane types operate?\n",
    "- Q3: Which type of airplane carried the heaviest bombs? Which were the 10 most dangerous airplane types with respect to carried explosives?\n",
    "- Q4: Which Allied Force uses which airplane when and where?"
   ]
  },
  {
   "cell_type": "code",
   "execution_count": null,
   "metadata": {},
   "outputs": [],
   "source": [
    "df_airpl = gdf_europe.copy()"
   ]
  },
  {
   "cell_type": "code",
   "execution_count": null,
   "metadata": {},
   "outputs": [],
   "source": [
    "df_airpl.columns"
   ]
  },
  {
   "cell_type": "markdown",
   "metadata": {},
   "source": [
    "> **Q1: Which type of airplane is mostly engaged?**"
   ]
  },
  {
   "cell_type": "code",
   "execution_count": null,
   "metadata": {},
   "outputs": [],
   "source": [
    "## your code here"
   ]
  },
  {
   "cell_type": "code",
   "execution_count": null,
   "metadata": {},
   "outputs": [],
   "source": [
    "print(\"Unique airplanes:\\n\")\n",
    "df_airpl[\"Aircraft Series\"].unique()"
   ]
  },
  {
   "cell_type": "code",
   "execution_count": null,
   "metadata": {},
   "outputs": [],
   "source": [
    "print(\"Most enganged airplanes:\\n\")\n",
    "df_airpl[\"Aircraft Series\"].value_counts()"
   ]
  },
  {
   "cell_type": "code",
   "execution_count": null,
   "metadata": {},
   "outputs": [],
   "source": [
    "df_airpl[\"Aircraft Series\"].value_counts().plot.bar(rot=0);"
   ]
  },
  {
   "cell_type": "markdown",
   "metadata": {},
   "source": [
    "> **Q2: At what height do airplanes operate? At what height to the 10 most common airplane types operate?**"
   ]
  },
  {
   "cell_type": "code",
   "execution_count": null,
   "metadata": {},
   "outputs": [],
   "source": [
    "## your code here"
   ]
  },
  {
   "cell_type": "code",
   "execution_count": null,
   "metadata": {},
   "outputs": [],
   "source": [
    "# get operating height\n",
    "print(\"Operating height for each aircraft:\\n\")\n",
    "df_airpl.groupby(\"Aircraft Series\")[\"Altitude (meters)\"].agg([\"mean\", \"min\", \"max\"]).dropna()"
   ]
  },
  {
   "cell_type": "code",
   "execution_count": null,
   "metadata": {},
   "outputs": [],
   "source": [
    "# compute 10 most common airplane types\n",
    "list_ten_most_common = df_airpl[\"Aircraft Series\"].value_counts()[:10].index\n",
    "print(\"10 most common airplane types:\\n\")\n",
    "list(list_ten_most_common)\n"
   ]
  },
  {
   "cell_type": "code",
   "execution_count": null,
   "metadata": {},
   "outputs": [],
   "source": [
    "ten_most_common = df_airpl.loc[df_airpl[\"Aircraft Series\"].isin(list_ten_most_common)]\n",
    "print(ten_most_common.shape)"
   ]
  },
  {
   "cell_type": "code",
   "execution_count": null,
   "metadata": {},
   "outputs": [],
   "source": [
    "fig, ax = plt.subplots(3,1, figsize=(16,18))\n",
    "\n",
    "df_airpl.groupby(\"Aircraft Series\")[\"Altitude (meters)\"].mean().dropna().sort_values(ascending=False).plot.bar(rot=0, ax=ax[0])\n",
    "plt.ylabel(\"Mean altitude (meters)\");\n",
    "sns.boxplot(x=\"Aircraft Series\", y=\"Altitude (meters)\", data=ten_most_common, ax=ax[1])\n",
    "sns.violinplot(x=\"Aircraft Series\", y=\"Altitude (meters)\", hue=\"Country\", split=True, data=ten_most_common, ax=ax[2]);"
   ]
  },
  {
   "cell_type": "markdown",
   "metadata": {},
   "source": [
    "> **Q3: Which type of airplane carried the heaviest bombs? Which were the 10 most dangerous airplane types with respect to carried explosives?**"
   ]
  },
  {
   "cell_type": "code",
   "execution_count": null,
   "metadata": {},
   "outputs": [],
   "source": [
    "## your code here"
   ]
  },
  {
   "cell_type": "code",
   "execution_count": null,
   "metadata": {},
   "outputs": [],
   "source": [
    "fig, ax = plt.subplots(2,1, figsize=(16,12))\n",
    "df_airpl.columns\n",
    "(df_airpl.groupby('Aircraft Series')['High Explosives Weight (Tons)'].\n",
    " max().\n",
    " dropna().\n",
    " sort_values(ascending=False).\n",
    " plot.bar(ax=ax[0]))\n",
    "ax[0].set_title(\"Aircrafs carring the heaviest explosives weights\")\n",
    "\n",
    "# compute most devastating aircrafts\n",
    "list_ten_dangerous = (df_airpl.groupby('Aircraft Series')['High Explosives Weight (Tons)'].\n",
    "                      max().sort_values(ascending=False).\n",
    "                      dropna()[:10].index)\n",
    "ten_dangerous = df_airpl.loc[df_airpl[\"Aircraft Series\"].isin(list_ten_dangerous)]\n",
    "\n",
    "sns.boxplot(x=\"Aircraft Series\", y=\"High Explosives Weight (Tons)\", data=ten_dangerous, ax=ax[1]);\n",
    "plt.tight_layout()"
   ]
  },
  {
   "cell_type": "markdown",
   "metadata": {},
   "source": [
    "> **Q4: Which Allied Force uses which airplane when and where?**   \n",
    "_This question is for sure a huge one. We suggest to write a function (or script) that plots  for each year the Allied attacks over Europe for any specified airplane type._"
   ]
  },
  {
   "cell_type": "code",
   "execution_count": null,
   "metadata": {},
   "outputs": [],
   "source": [
    "df_airpl['Aircraft Series'].unique()"
   ]
  },
  {
   "cell_type": "code",
   "execution_count": null,
   "metadata": {},
   "outputs": [],
   "source": [
    "## your code here"
   ]
  },
  {
   "cell_type": "markdown",
   "metadata": {},
   "source": [
    "_Note: If you struggle you may take a look at our implementation for this problem. Uncomment and run the cell below and apply the_ `plot_airplane_type_over_europe` _function._"
   ]
  },
  {
   "cell_type": "code",
   "execution_count": null,
   "metadata": {},
   "outputs": [],
   "source": [
    "# %load ../src/_solutions/plot_airplane_type_over_europe.py"
   ]
  },
  {
   "cell_type": "code",
   "execution_count": null,
   "metadata": {},
   "outputs": [],
   "source": [
    "#plot_airplane_type_over_europe(df_airpl, airplane=\"B17\", kdp=False);"
   ]
  },
  {
   "cell_type": "markdown",
   "metadata": {},
   "source": [
    "***"
   ]
  }
 ],
 "metadata": {
  "hide_input": false,
  "kernelspec": {
   "display_name": "Python 3",
   "language": "python",
   "name": "python3"
  },
  "language_info": {
   "codemirror_mode": {
    "name": "ipython",
    "version": 3
   },
   "file_extension": ".py",
   "mimetype": "text/x-python",
   "name": "python",
   "nbconvert_exporter": "python",
   "pygments_lexer": "ipython3",
   "version": "3.7.3"
  }
 },
 "nbformat": 4,
 "nbformat_minor": 4
}
